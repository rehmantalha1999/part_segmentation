{
 "cells": [
  {
   "cell_type": "code",
   "execution_count": 2,
   "id": "076582c4",
   "metadata": {
    "scrolled": false
   },
   "outputs": [
    {
     "name": "stdout",
     "output_type": "stream",
     "text": [
      "Jupyter environment detected. Enabling Open3D WebVisualizer.\n",
      "[Open3D INFO] WebRTC GUI backend enabled.\n",
      "[Open3D INFO] WebRTCWindowSystem: HTTP handshake server disabled.\n"
     ]
    }
   ],
   "source": [
    "#1.1 - IMPORT THE NECESSARY LIBRARIES\n",
    "import os\n",
    "import numpy as np\n",
    "import open3d as o3d\n",
    "import plotly.graph_objects as go\n",
    "from matplotlib import pyplot as plt\n",
    "from sklearn.neighbors import NearestNeighbors\n",
    "from scipy.spatial import KDTree\n",
    "from sklearn.neighbors import LocalOutlierFactor\n",
    "from numba.typed import List\n",
    "from scipy.spatial import cKDTree\n",
    "from numba import njit, prange\n",
    "import itertools"
   ]
  },
  {
   "cell_type": "code",
   "execution_count": 9,
   "id": "d49a318b",
   "metadata": {},
   "outputs": [
    {
     "name": "stdout",
     "output_type": "stream",
     "text": [
      "Python version: 3.9.16 (main, Mar  8 2023, 10:39:24) [MSC v.1916 64 bit (AMD64)]\n",
      "NumPy version: 1.23.2\n",
      "Open3D version: 0.17.0\n",
      "Plotly version: 5.14.1\n",
      "Matplotlib version: 3.7.1\n",
      "Scikit-learn version: 1.2.2\n",
      "SciPy version: 1.9.1\n",
      "Numba version: 0.57.0\n"
     ]
    }
   ],
   "source": [
    "print(\"Python version:\", sys.version)\n",
    "print(\"NumPy version:\", np.__version__)\n",
    "print(\"Open3D version:\", o3d.__version__)\n",
    "print(\"Plotly version:\", plotly.__version__)\n",
    "print(\"Matplotlib version:\", matplotlib.__version__)\n",
    "print(\"Scikit-learn version:\", sklearn_version)\n",
    "print(\"SciPy version:\", scipy_version)\n",
    "print(\"Numba version:\", numba_version)"
   ]
  },
  {
   "cell_type": "code",
   "execution_count": 1,
   "id": "2dcd55f8",
   "metadata": {},
   "outputs": [
    {
     "name": "stdout",
     "output_type": "stream",
     "text": [
      "jo\n"
     ]
    }
   ],
   "source": [
    "print(\"jo\")"
   ]
  },
  {
   "cell_type": "code",
   "execution_count": null,
   "id": "ab33e384",
   "metadata": {},
   "outputs": [],
   "source": [
    "def get_fileNames(folder_path):\n",
    "    \n",
    "    # create an empty list to store the file names\n",
    "    file_names = []\n",
    "\n",
    "    # go through each file in the folder\n",
    "    for filename in os.listdir(folder_path):\n",
    "        # add the file name to the list\n",
    "        file_names.append(filename)\n",
    "\n",
    "    # print the list of file names\n",
    "    return(file_names)"
   ]
  },
  {
   "cell_type": "code",
   "execution_count": null,
   "id": "d5253987",
   "metadata": {},
   "outputs": [],
   "source": [
    "def remove_outliers_lof(points, k=20, contamination=0.05):\n",
    "    # Create an instance of the LocalOutlierFactor class with the specified parameters\n",
    "    lof = LocalOutlierFactor(n_neighbors=k, contamination=contamination)\n",
    "\n",
    "    # Calculate the LOF scores for each point in the dataset\n",
    "    lof_scores = lof.fit_predict(points)\n",
    "\n",
    "    # Select the inliers from the dataset based on their LOF scores\n",
    "    # Points with LOF scores less than or equal to 1 are considered inliers\n",
    "    inliers = points[lof_scores == 1]\n",
    "\n",
    "    # Return the filtered array of inliers\n",
    "    return inliers\n"
   ]
  },
  {
   "cell_type": "code",
   "execution_count": null,
   "id": "992a74ea",
   "metadata": {},
   "outputs": [],
   "source": [
    "def get_avg_point_distance(pcd):\n",
    "    # Compute the nearest neighbor distance for each point in the point cloud\n",
    "    distances = pcd.compute_nearest_neighbor_distance()\n",
    "\n",
    "    # Compute the average nearest neighbor distance for all points in the point cloud\n",
    "    avg_distance = np.mean(distances)\n",
    "\n",
    "    # Return the average distance as the result of this function\n",
    "    return avg_distance\n",
    "\n",
    "def get_best_distance_threshold(pcd, scale_factor=1.5):\n",
    "    # Get the average point-to-point distance for the point cloud\n",
    "    avg_distance = get_avg_point_distance(pcd)\n",
    "\n",
    "    # Compute the best distance threshold based on the average distance and scale factor\n",
    "    threshold = scale_factor * avg_distance\n",
    "\n",
    "    # Return the computed threshold as the result of this function\n",
    "    return threshold\n"
   ]
  },
  {
   "cell_type": "code",
   "execution_count": null,
   "id": "1b1715e0",
   "metadata": {},
   "outputs": [],
   "source": [
    "def estimate_radius(points, k=16):\n",
    "    \"\"\"\n",
    "    Estimate the radius of a point cloud using the k-Nearest Neighbors method.\n",
    "\n",
    "    Parameters:\n",
    "    points (numpy.ndarray): A numpy array containing the point cloud data.\n",
    "    k (int): The number of nearest neighbors to consider.\n",
    "\n",
    "    Returns:\n",
    "    float: The estimated radius.\n",
    "    \"\"\"\n",
    "\n",
    "    # Fit a k-NN model to the data using the specified number of neighbors\n",
    "    nbrs = NearestNeighbors(n_neighbors=k, algorithm='auto').fit(points)\n",
    "\n",
    "    # Find the distances to the k nearest neighbors for each point in the dataset\n",
    "    distances, _ = nbrs.kneighbors(points)\n",
    "\n",
    "    # Compute the average distance to the k nearest neighbors for each point\n",
    "    avg_distances = np.mean(distances, axis=1)\n",
    "\n",
    "    # Estimate the radius as the median of the average distances\n",
    "    radius = np.median(avg_distances)\n",
    "\n",
    "    # Return the estimated radius\n",
    "    return radius\n"
   ]
  },
  {
   "cell_type": "code",
   "execution_count": null,
   "id": "3eec0422",
   "metadata": {},
   "outputs": [],
   "source": [
    "def draw_plotly(rest):\n",
    "    \"\"\"\n",
    "    Visualize a point cloud using Plotly.\n",
    "\n",
    "    Parameters:\n",
    "    rest (open3d.geometry.PointCloud): The point cloud to visualize.\n",
    "\n",
    "    Returns:\n",
    "    None.\n",
    "    \"\"\"\n",
    "\n",
    "    # Convert the point cloud to a numpy array\n",
    "    points = np.asarray(rest.points)\n",
    "\n",
    "    # Create a new Plotly figure\n",
    "    fig = go.Figure()\n",
    "\n",
    "    # Add a scatter plot of the main point cloud\n",
    "    if rest.colors != None:\n",
    "        # If the point cloud has color information, use it for the scatter plot\n",
    "        colors = np.asarray(rest.colors)\n",
    "    else:\n",
    "        # If there is no color information, use a default color\n",
    "        colors = np.ones((len(points), 3))\n",
    "\n",
    "    fig.add_trace(go.Scatter3d(x=points[:, 0], y=points[:, 1], z=points[:, 2],\n",
    "                               mode='markers',\n",
    "                               marker=dict(size=1, color=colors, colorscale='Viridis', showscale=False)))\n",
    "\n",
    "    # Set the aspect ratio of the plot and show it\n",
    "    fig.update_layout(scene=dict(aspectmode='data'))\n",
    "    fig.show()"
   ]
  },
  {
   "cell_type": "code",
   "execution_count": null,
   "id": "071da980",
   "metadata": {},
   "outputs": [],
   "source": [
    "# def draw_plotly(rest):\n",
    "#     \"\"\"\n",
    "#     Visualize a point cloud and its segments using Plotly.\n",
    "\n",
    "#     Parameters:\n",
    "#     rest (open3d.geometry.PointCloud): The point cloud to visualize.\n",
    "#     segments (List[open3d.geometry.PointCloud]): A list of point clouds representing the segments.\n",
    "\n",
    "#     Returns:\n",
    "#     None.\n",
    "#     \"\"\"\n",
    "\n",
    "#     # Convert the point cloud to a numpy array\n",
    "#     points = np.asarray(rest.points)\n",
    "\n",
    "#     # Create a new Plotly figure\n",
    "#     fig = go.Figure()\n",
    "\n",
    "#     # Add a scatter plot of the main point cloud\n",
    "#     if rest.colors != None:\n",
    "#         # If the point cloud has color information, use it for the scatter plot\n",
    "#         colors = np.asarray(rest.colors)\n",
    "#     else:\n",
    "#         # If there is no color information, use a default color\n",
    "#         colors = np.ones(len(np.asarray(rest.points)))\n",
    "\n",
    "#     fig.add_traces(go.Scatter3d(x=points[:,0], y=points[:,1], z=points[:,2], \n",
    "#             mode='markers',\n",
    "#             marker=dict(size=1, color=colors)))\n",
    "\n",
    "# #     # Add a scatter plot for each segment\n",
    "# #     for i in range(len(segments)):\n",
    "# #         pc = np.asarray(segments[i].points)\n",
    "# #         if segments[i].colors != None:\n",
    "# #             # If the segment has color information, use it for the scatter plot\n",
    "# #             colors = np.asarray(segments[i].colors)\n",
    "# #         else:\n",
    "# #             # If there is no color information, use a default color\n",
    "# #             colors = np.ones(len(np.asarray(segments[i].points)))\n",
    "# #         fig.add_traces(go.Scatter3d(x=pc[:,0], y=pc[:,1], z=pc[:,2], \n",
    "# #             mode='markers',\n",
    "# #             marker=dict(size=1, color=colors)))\n",
    "\n",
    "#     # Set the aspect ratio of the plot and show it\n",
    "#     fig.update_layout(dict(scene=dict(aspectmode='data')))\n",
    "#     fig.show()\n"
   ]
  },
  {
   "cell_type": "code",
   "execution_count": null,
   "id": "54a03b03",
   "metadata": {},
   "outputs": [],
   "source": [
    "def subtract_and_add_point_clouds(pcd_A: o3d.geometry.PointCloud, pcd_B: o3d.geometry.PointCloud, voxel_size: float = 0.01, threshold: float = 1e-3) -> tuple:\n",
    "    \"\"\"\n",
    "    Remove the points in point cloud A that are close to point cloud B and add them to point cloud B.\n",
    "\n",
    "    Parameters:\n",
    "    pcd_A (open3d.geometry.PointCloud): The first point cloud.\n",
    "    pcd_B (open3d.geometry.PointCloud): The second point cloud.\n",
    "    voxel_size (float): The voxel size for downsampling (default 0.01).\n",
    "    threshold (float): The threshold distance for determining if a point in A is close to B (default 1e-3).\n",
    "\n",
    "    Returns:\n",
    "    tuple: A tuple containing the cleaned point cloud A and the updated point cloud B.\n",
    "    \"\"\"\n",
    "    # Perform voxel downsampling on both point clouds\n",
    "    downsampled_pcd_A = pcd_A.voxel_down_sample(voxel_size)\n",
    "    downsampled_pcd_B = pcd_B.voxel_down_sample(voxel_size)\n",
    "\n",
    "    # Create a KDTree for the downsampled point cloud B\n",
    "    kdtree = o3d.geometry.KDTreeFlann(downsampled_pcd_B)\n",
    "\n",
    "    # Get the points from the point clouds as numpy arrays\n",
    "    points_A = np.asarray(downsampled_pcd_A.points)\n",
    "    points_B = np.asarray(downsampled_pcd_B.points)\n",
    "\n",
    "    # Initialize an array to store the indices of points to be removed\n",
    "    indices_to_remove = []\n",
    "\n",
    "    # Iterate through the points in the downsampled point cloud A\n",
    "    for i, point in enumerate(points_A):\n",
    "        # Find the nearest neighbor in the downsampled point cloud B\n",
    "        _, idx, _ = kdtree.search_knn_vector_3d(point, 3)\n",
    "\n",
    "        # Check if the distance is less than the threshold\n",
    "        if np.linalg.norm(points_B[idx[0]] - point) < threshold:\n",
    "            indices_to_remove.append(i)\n",
    "\n",
    "    # Remove the marked points from the downsampled point cloud A\n",
    "    cleaned_points_A = np.delete(points_A, indices_to_remove, axis=0)\n",
    "\n",
    "    # Add the removed points to point cloud B\n",
    "    removed_points_A = points_A[indices_to_remove]\n",
    "    updated_points_B = np.vstack((points_B, removed_points_A))\n",
    "\n",
    "    # Create new point clouds with the cleaned and updated points\n",
    "    cleaned_pcd_A = o3d.geometry.PointCloud()\n",
    "    cleaned_pcd_A.points = o3d.utility.Vector3dVector(cleaned_points_A)\n",
    "    \n",
    "    \n",
    "\n",
    "    updated_pcd_B = o3d.geometry.PointCloud()\n",
    "    updated_pcd_B.points = o3d.utility.Vector3dVector(updated_points_B)\n",
    "    \n",
    "    return cleaned_pcd_A, updated_pcd_B\n"
   ]
  },
  {
   "cell_type": "code",
   "execution_count": null,
   "id": "c9e9fb10",
   "metadata": {},
   "outputs": [],
   "source": [
    "def compute_segment_distances(segments, threshold):\n",
    "    # Get the keys of the segments dictionary\n",
    "    segment_keys = list(segments.keys())\n",
    "\n",
    "    # Get the number of segments\n",
    "    n = len(segment_keys)\n",
    "\n",
    "    # Initialize a 2D array to store the distances between segments\n",
    "    distances = np.zeros((n, n))\n",
    "\n",
    "    # Iterate through all combinations of segments\n",
    "    for i, j in itertools.combinations(range(n), 2):\n",
    "        # Compute the distances between shared points of the two segments\n",
    "        shared_points = segments[segment_keys[i]].compute_point_cloud_distance(segments[segment_keys[j]])\n",
    "\n",
    "        # Count the number of shared points that are within the threshold distance\n",
    "        num_shared_points = np.sum(np.array(shared_points) < threshold)\n",
    "\n",
    "        # Store the number of shared points as the distance between the segments\n",
    "        distances[i, j] = num_shared_points\n",
    "        distances[j, i] = num_shared_points\n",
    "\n",
    "    return distances\n",
    "\n",
    "\n",
    "def assign_colors_to_small_segments(segments, pcd, min_points, threshold):\n",
    "    # Compute the distances between all pairs of segments\n",
    "    segment_distances = compute_segment_distances(segments, threshold)\n",
    "\n",
    "    # Initialize a new dictionary to store the updated segments\n",
    "    new_segments = {}\n",
    "\n",
    "    # Iterate through all segments\n",
    "    for i, segment in segments.items():\n",
    "        # Check if the segment has less points than the minimum threshold\n",
    "        if len(segment.points) < min_points:\n",
    "            # Find the neighboring segment with the most points\n",
    "            max_points = 0\n",
    "            max_points_segment_idx = None\n",
    "            for j, neighbor_segment in segments.items():\n",
    "                # Skip the current segment\n",
    "                if i == j:\n",
    "                    continue\n",
    "\n",
    "                # Get the number of shared points with the current segment\n",
    "                num_shared_points = segment_distances[i, j]\n",
    "\n",
    "                # Update the index of the neighboring segment with the most points\n",
    "                if num_shared_points > max_points:\n",
    "                    max_points = num_shared_points\n",
    "                    max_points_segment_idx = j\n",
    "\n",
    "            if max_points_segment_idx is not None:\n",
    "                # Assign the color of the neighboring segment with the most points to the current segment\n",
    "                segment.paint_uniform_color(segments[max_points_segment_idx].colors[0])\n",
    "\n",
    "        # Add the updated or unchanged segment to the new dictionary\n",
    "        new_segments[i] = segment\n",
    "\n",
    "    return new_segments"
   ]
  },
  {
   "cell_type": "code",
   "execution_count": null,
   "id": "fbb99373",
   "metadata": {},
   "outputs": [],
   "source": [
    "def refined_ransac(pcd):\n",
    "    segment_models = {}  # dictionary to store the models of segmented planes\n",
    "    segments = {}  # dictionary to store the segmented planes\n",
    "    max_plane_idx = 40  # maximum number of planes to segment\n",
    "    rest = pcd  # remaining point cloud to segment after each iteration\n",
    "    no_ = len(np.array(rest.points))  # number of points in the original point cloud\n",
    "    for i in range(max_plane_idx):\n",
    "        if len(rest.points) < 0.010*len(np.array(pcd.points)):  # check if there are enough points left to segment\n",
    "            print(\"Not enough points left for RANSAC. Stopping at iteration:\", i)\n",
    "            break\n",
    "        d_threshold = get_best_distance_threshold(rest)  # get the best distance threshold for plane segmentation\n",
    "        # segment the plane and get the inliers\n",
    "        segment_models[i], inliers = rest.segment_plane(distance_threshold=d_threshold, ransac_n=3, num_iterations=1000)\n",
    "        segments[i] = rest.select_by_index(inliers)  # select the points in the plane segment\n",
    "        # cluster the segment points and get the cluster with the most points\n",
    "        labels = np.array(segments[i].cluster_dbscan(eps=d_threshold*10, min_points=10))\n",
    "        candidates = [len(np.where(labels == j)[0]) for j in np.unique(labels)]\n",
    "        best_candidate = int(np.array(np.unique(labels)[np.where(candidates == np.max(candidates))[0]])[0])\n",
    "        print(\"the best candidate is:\", best_candidate)\n",
    "        # update the remaining point cloud and segment points based on the best cluster\n",
    "        rest = rest.select_by_index(inliers, invert=True) + segments[i].select_by_index(list(np.where(labels != best_candidate)[0]))\n",
    "        segments[i] = segments[i].select_by_index(list(np.where(labels == best_candidate)[0]))\n",
    "        random_color = np.random.rand(3).tolist()  # Generate a random color\n",
    "        segments[i].paint_uniform_color(random_color)  # Assign the random color to the segment\n",
    "        print(\"pass\", i + 1, \"/\", max_plane_idx, \"done.\")\n",
    "    return rest, segments, i, segment_models\n"
   ]
  },
  {
   "cell_type": "code",
   "execution_count": null,
   "id": "bb4f1a68",
   "metadata": {},
   "outputs": [],
   "source": [
    "@njit\n",
    "def calc_curvature(neighbors):\n",
    "    # If there are fewer than 2 neighbors, return 0 curvature\n",
    "    if neighbors.shape[0] < 2:\n",
    "        return 0\n",
    "    # Calculate the center of the neighbors\n",
    "    center = np.sum(neighbors, axis=0) / neighbors.shape[0]\n",
    "    # Compute the covariance matrix\n",
    "    cov = np.cov(neighbors.T)\n",
    "    # Perform singular value decomposition (SVD) on the covariance matrix\n",
    "    _, s, _ = np.linalg.svd(cov)\n",
    "    # Calculate and return the curvature\n",
    "    return s[-1] / np.sum(s)\n",
    "\n",
    "@njit(parallel=True)\n",
    "def compute_curvature(points, indices):\n",
    "    # Initialize an array to store curvature values\n",
    "    curvature = np.zeros(len(points))\n",
    "\n",
    "    # Calculate curvature for each point in the point cloud\n",
    "    for i in prange(len(points)):\n",
    "        idx = indices[i]\n",
    "        neighbors = points[idx, :]\n",
    "        curvature[i] = calc_curvature(neighbors)\n",
    "\n",
    "    # Return the array of curvature values\n",
    "    return curvature\n",
    "\n",
    "def calculate_curvature_threshold(curvature, percentile=95):\n",
    "    # Calculate and return the curvature threshold based on the given percentile\n",
    "    return np.percentile(curvature, percentile)"
   ]
  },
  {
   "cell_type": "code",
   "execution_count": null,
   "id": "9cbd94b4",
   "metadata": {
    "scrolled": true
   },
   "outputs": [],
   "source": [
    "# Get file names from a directory\n",
    "fileNames = get_fileNames(\"Archive\")\n",
    "\n",
    "# Choose a file to read (in this case, the fifth file in the directory)\n",
    "current_file = 4\n",
    "\n",
    "# Read a triangle mesh from the chosen file\n",
    "mesh = o3d.io.read_triangle_mesh('Archive'+'/'+fileNames[current_file])  \n",
    "\n",
    "# Sample points uniformly from the mesh to get a point cloud\n",
    "pcd = mesh.sample_points_uniformly(number_of_points=100_000)\n",
    "\n",
    "# Visualize the point cloud\n",
    "o3d.visualization.draw_geometries([pcd])\n"
   ]
  },
  {
   "cell_type": "code",
   "execution_count": null,
   "id": "bb923210",
   "metadata": {},
   "outputs": [],
   "source": [
    "#To compute the curvature and the points that lie on the curvature\n",
    "\n",
    "# Convert point cloud data to a NumPy array\n",
    "points = np.asarray(pcd.points)\n",
    "# Estimate the radius for neighborhood search\n",
    "radius = estimate_radius(points)\n",
    "# Build a k-d tree for efficient nearest neighbor search\n",
    "kdtree = cKDTree(points)\n",
    "# Query the k-d tree to find the k nearest neighbors within the specified radius\n",
    "_, indices = kdtree.query(points, k=12, distance_upper_bound=radius)\n",
    "# Remove any invalid indices from the result\n",
    "indices = [idx[idx != kdtree.n] for idx in indices]\n",
    "\n",
    "# Create a numba-compatible jagged array for the indices\n",
    "indices_jagged = List()\n",
    "for idx in indices:\n",
    "    indices_jagged.append(np.asarray(idx))\n",
    "\n",
    "# Compute the curvature for each point in the point cloud using the jagged array of indices\n",
    "curvature = compute_curvature(points, indices_jagged)\n"
   ]
  },
  {
   "cell_type": "markdown",
   "id": "fa66ddd9",
   "metadata": {},
   "source": [
    "#VERY IMPORTANT - PLEASE VISUALIZE BEFOREHAND TO SEE IF THE PERCENTILE THRESHOLD NEEDS TO BE ALTERED"
   ]
  },
  {
   "cell_type": "code",
   "execution_count": null,
   "id": "4e220803",
   "metadata": {},
   "outputs": [],
   "source": [
    "#VERY IMPORTANT - PLEASE VISUALIZE BEFOREHAND TO SEE IF THE PERCENTILE THRESHOLD NEEDS TO BE ALTERED\n",
    "# Increase the value if there are any noise points added in the high_curvature_pcd added and you would want to remove them\n",
    "# Decrease the value if you want to increase the number of points to be included in the high_curvature_pcd\n",
    "percentile = 53\n",
    "\n",
    "curvature_threshold = calculate_curvature_threshold(curvature, percentile)\n",
    "\n",
    "# Select points with high curvature\n",
    "high_curvature_points = points[curvature > curvature_threshold]\n",
    "\n",
    "# Visualize the high curvature points with a different color\n",
    "high_curvature_pcd = o3d.geometry.PointCloud()\n",
    "high_curvature_pcd.points = o3d.utility.Vector3dVector(high_curvature_points)\n",
    "\n",
    "o3d.visualization.draw_geometries([high_curvature_pcd])\n",
    "print(curvature_threshold)"
   ]
  },
  {
   "cell_type": "code",
   "execution_count": null,
   "id": "0f0f85f9",
   "metadata": {
    "scrolled": true
   },
   "outputs": [],
   "source": [
    "#Removing the points that lie on the curvature from the original point cloud and adding duplicate points \n",
    "pcd_A = pcd\n",
    "pcd_B = high_curvature_pcd\n",
    "\n",
    "resultant_pcd, high_curvature_pcd = subtract_and_add_point_clouds(pcd_A, pcd_B, voxel_size=0.01, threshold=1.3)\n",
    "high_curvature_pcd.paint_uniform_color([0, 0, 0])  # black color for high curvature points\n",
    "# o3d.visualization.draw_geometries([high_curvature_pcd])"
   ]
  },
  {
   "cell_type": "code",
   "execution_count": null,
   "id": "993167a1",
   "metadata": {},
   "outputs": [],
   "source": [
    "# o3d.visualization.draw_geometries([resultant_pcd])"
   ]
  },
  {
   "cell_type": "code",
   "execution_count": null,
   "id": "76c8d583",
   "metadata": {},
   "outputs": [],
   "source": [
    "points = np.asarray(resultant_pcd.points)\n",
    "\n",
    "# Remove outliers using LOF\n",
    "k = 5  # Number of neighbors to consider\n",
    "contamination = 0.01  # Proportion of outliers in the data set\n",
    "inliers = remove_outliers_lof(points, k, contamination)\n",
    "\n",
    "# Visualize the point cloud after removing outliers\n",
    "inliers_pcd = o3d.geometry.PointCloud()\n",
    "inliers_pcd.points = o3d.utility.Vector3dVector(inliers)\n",
    "# o3d.visualization.draw_geometries([inliers_pcd])\n"
   ]
  },
  {
   "cell_type": "code",
   "execution_count": null,
   "id": "fcf21f7f",
   "metadata": {
    "scrolled": false
   },
   "outputs": [],
   "source": [
    "rest, segments, max_plane_idx, models = refined_ransac(inliers_pcd)\n",
    "rest.paint_uniform_color([0, 0, 0]) "
   ]
  },
  {
   "cell_type": "code",
   "execution_count": null,
   "id": "f3dcf873",
   "metadata": {},
   "outputs": [],
   "source": [
    "# o3d.visualization.draw_geometries([rest])"
   ]
  },
  {
   "cell_type": "code",
   "execution_count": null,
   "id": "c9d9f56c",
   "metadata": {},
   "outputs": [],
   "source": [
    "a = o3d.geometry.PointCloud()\n",
    "for i in range(len(segments)):\n",
    "    a = a + segments[i]\n",
    " "
   ]
  },
  {
   "cell_type": "code",
   "execution_count": null,
   "id": "a8895de8",
   "metadata": {},
   "outputs": [],
   "source": [
    "o3d.visualization.draw_geometries([a+rest+high_curvature_pcd])"
   ]
  },
  {
   "cell_type": "code",
   "execution_count": null,
   "id": "a14e67bb",
   "metadata": {},
   "outputs": [],
   "source": [
    "min_points = int(0.35 * len(np.array(pcd.points)))  # Set this to the desired minimum number of points for each segment\n",
    "updated_segments = assign_colors_to_small_segments(segments, pcd, min_points, get_best_distance_threshold(pcd))\n",
    "a = o3d.geometry.PointCloud()\n",
    "for i in range(len(updated_segments)):\n",
    "    a = a + updated_segments[i]\n",
    "# o3d.visualization.draw_geometries([a])"
   ]
  },
  {
   "cell_type": "code",
   "execution_count": null,
   "id": "bd6703fb",
   "metadata": {},
   "outputs": [],
   "source": [
    "o3d.visualization.draw_geometries([a+high_curvature_pcd+rest]) #final visualization"
   ]
  },
  {
   "cell_type": "code",
   "execution_count": null,
   "id": "146431f3",
   "metadata": {},
   "outputs": [],
   "source": [
    "final_pcd = a+rest+high_curvature_pcd"
   ]
  },
  {
   "cell_type": "code",
   "execution_count": null,
   "id": "f0d448af",
   "metadata": {},
   "outputs": [],
   "source": [
    "downsampled_pcd = final_pcd.voxel_down_sample(0.5)\n",
    "downsampled_pcd\n",
    "draw_plotly([downsampled_pcd])"
   ]
  },
  {
   "cell_type": "code",
   "execution_count": null,
   "id": "691722fe",
   "metadata": {},
   "outputs": [],
   "source": [
    "def unique_colors(pcd: o3d.geometry.PointCloud) -> np.ndarray:\n",
    "    # Extract colors from the point cloud and convert to a numpy array\n",
    "    colors = np.asarray(pcd.colors)\n",
    "\n",
    "    # Create a structured array view with a single field, then use numpy's unique function\n",
    "    dtype = {'names': ['color'], 'formats': [colors.dtype] * colors.shape[1]}\n",
    "    unique_colors = np.unique(colors.view(dtype))\n",
    "\n",
    "    # Convert the structured array back to the original format\n",
    "    return unique_colors.view(colors.dtype).reshape(-1, colors.shape[1])\n",
    "\n",
    "# Load or create a point cloud (pcd)\n",
    "# pcd = o3d.io.read_point_cloud(\"path/to/your/pointcloud.ply\")\n",
    "\n",
    "# Find unique colors in the point cloud\n",
    "unique_colors_array = unique_colors(a)\n",
    "print(unique_colors_array) #colors representing segments\n",
    "print(\"number of segments:\",len(unique_colors_array)) #total number of segments excluding from points on the curvature"
   ]
  },
  {
   "cell_type": "code",
   "execution_count": null,
   "id": "f54a079c",
   "metadata": {},
   "outputs": [],
   "source": []
  }
 ],
 "metadata": {
  "kernelspec": {
   "display_name": "Python 3 (ipykernel)",
   "language": "python",
   "name": "python3"
  },
  "language_info": {
   "codemirror_mode": {
    "name": "ipython",
    "version": 3
   },
   "file_extension": ".py",
   "mimetype": "text/x-python",
   "name": "python",
   "nbconvert_exporter": "python",
   "pygments_lexer": "ipython3",
   "version": "3.9.16"
  }
 },
 "nbformat": 4,
 "nbformat_minor": 5
}
